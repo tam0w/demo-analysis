{
 "cells": [
  {
   "cell_type": "markdown",
   "source": [
    "Jupyter Notebook file for testing code snippets conveniently and for performing image pre processing and manipulation (cropping etc)"
   ],
   "metadata": {
    "collapsed": false
   }
  },
  {
   "cell_type": "code",
   "execution_count": 19,
   "outputs": [],
   "source": [
    "import numpy as np, cv2 as cv, youtube_dl, pprint, time, easyocr, pandas as pd\n"
   ],
   "metadata": {
    "collapsed": false,
    "ExecuteTime": {
     "end_time": "2023-07-23T03:54:36.836048200Z",
     "start_time": "2023-07-23T03:54:36.830553800Z"
    }
   }
  },
  {
   "cell_type": "code",
   "execution_count": 16,
   "outputs": [],
   "source": [
    "frame = cv.imread('images/screenshot.png')\n",
    "buy = cv.imread('images/buy.png')\n",
    "buytrans = cv.imread('images/buytrans.png')\n",
    "spike = cv.imread('screenshots/spike_trans1.png')\n",
    "win = cv.imread('screenshots/win_gray.png')\n"
   ],
   "metadata": {
    "collapsed": false,
    "ExecuteTime": {
     "end_time": "2023-07-23T03:54:27.435380500Z",
     "start_time": "2023-07-23T03:54:27.395790200Z"
    }
   }
  },
  {
   "cell_type": "code",
   "execution_count": 17,
   "outputs": [
    {
     "name": "stdout",
     "output_type": "stream",
     "text": [
      "0.7979826927185059\n"
     ]
    }
   ],
   "source": [
    "temp = cv.matchTemplate(frame, buy, cv.TM_CCOEFF_NORMED)\n",
    "min_val, max_val, min_loc, max_loc = cv.minMaxLoc(temp)\n",
    "print(max_val)"
   ],
   "metadata": {
    "collapsed": false,
    "ExecuteTime": {
     "end_time": "2023-07-23T03:54:28.095163100Z",
     "start_time": "2023-07-23T03:54:27.989770100Z"
    }
   }
  },
  {
   "cell_type": "code",
   "execution_count": 18,
   "outputs": [],
   "source": [
    "cropped_image = buytrans[70:190,90:380]\n",
    "\n",
    "cv.imshow(\"cropped\", cropped_image)\n",
    "cv.waitKey(0)\n",
    "cv.destroyAllWindows()"
   ],
   "metadata": {
    "collapsed": false,
    "ExecuteTime": {
     "end_time": "2023-07-23T03:54:30.223042700Z",
     "start_time": "2023-07-23T03:54:28.890030400Z"
    }
   }
  },
  {
   "cell_type": "code",
   "execution_count": null,
   "outputs": [
    {
     "name": "stdout",
     "output_type": "stream",
     "text": [
      "0.7979826927185059\n"
     ]
    }
   ],
   "source": [
    "temp = cv.matchTemplate(frame, buy, cv.TM_CCOEFF_NORMED)\n",
    "min_val, max_val, min_loc, max_loc = cv.minMaxLoc(temp)\n",
    "print(max_val)"
   ],
   "metadata": {
    "collapsed": false,
    "ExecuteTime": {
     "end_time": "2023-07-23T03:53:55.182112100Z",
     "start_time": "2023-07-23T03:53:55.074260700Z"
    }
   }
  },
  {
   "cell_type": "code",
   "execution_count": null,
   "outputs": [
    {
     "data": {
      "text/plain": "True"
     },
     "execution_count": 6,
     "metadata": {},
     "output_type": "execute_result"
    }
   ],
   "source": [
    "cv.imwrite('croppedbuytrans.png',cropped_image)"
   ],
   "metadata": {
    "collapsed": false,
    "ExecuteTime": {
     "end_time": "2023-07-23T03:53:55.192963100Z",
     "start_time": "2023-07-23T03:53:55.183109Z"
    }
   }
  },
  {
   "cell_type": "code",
   "execution_count": 14,
   "outputs": [
    {
     "data": {
      "text/plain": "(1079, 1439, 3)"
     },
     "execution_count": 14,
     "metadata": {},
     "output_type": "execute_result"
    }
   ],
   "source": [
    "frame.shape"
   ],
   "metadata": {
    "collapsed": false,
    "ExecuteTime": {
     "end_time": "2023-07-23T03:54:18.971305400Z",
     "start_time": "2023-07-23T03:54:18.964831100Z"
    }
   }
  },
  {
   "cell_type": "code",
   "execution_count": 6,
   "outputs": [
    {
     "name": "stdout",
     "output_type": "stream",
     "text": [
      "https://rr2---sn-qxxoxu-pmxs.googlevideo.com/videoplayback?expire=1690305534&ei=nq-_ZM3HFIm2juMPqYKREA&ip=202.12.82.194&id=o-AGvc9Zkk8FQh07_9ehEzo-QlAPcSGEgkVsddkC91rtZo&itag=299&aitags=134%2C136%2C160%2C243%2C298%2C299&source=youtube&requiressl=yes&mh=kI&mm=31%2C29&mn=sn-qxxoxu-pmxs%2Csn-h557snzr&ms=au%2Crdu&mv=m&mvi=2&pl=24&initcwndbps=1142500&spc=Ul2SqwVZsNc87tBIyX_vnPazeVXcuU6_aPGlOEW9XQ&vprv=1&svpuc=1&mime=video%2Fmp4&ns=ZQyFnp1I7vZloLlvBK0PM2oO&gir=yes&clen=61002864&dur=120.466&lmt=1690031339797839&mt=1690283629&fvip=2&keepalive=yes&fexp=24007246%2C51000013&c=WEB&txp=6219224&n=BgNLtv1qpy_7DKpcO-&sparams=expire%2Cei%2Cip%2Cid%2Caitags%2Csource%2Crequiressl%2Cspc%2Cvprv%2Csvpuc%2Cmime%2Cns%2Cgir%2Cclen%2Cdur%2Clmt&sig=AOq0QJ8wRQIhAOmt3CO-r2Cm3d56-R6tSoyJ25fsQ-PO-s7BzQ-uFGoZAiB1XoPnSupS9aC1F4qL7emOMR-SNC8DkFLxP-8YIN9brw%3D%3D&lsparams=mh%2Cmm%2Cmn%2Cms%2Cmv%2Cmvi%2Cpl%2Cinitcwndbps&lsig=AG3C_xAwRAIgLWQykvxNmKIeqoIgHXr5RhM1x6vUORJgaXL0wJG3uwUCIADjrCiqts9K1t-Mwec1QKXmmgl-Dbdfjy4gR2bKdtAd\n",
      "Frame no  90\n",
      "Frame no  180\n"
     ]
    },
    {
     "ename": "KeyboardInterrupt",
     "evalue": "",
     "output_type": "error",
     "traceback": [
      "\u001B[1;31m---------------------------------------------------------------------------\u001B[0m",
      "\u001B[1;31mKeyboardInterrupt\u001B[0m                         Traceback (most recent call last)",
      "Cell \u001B[1;32mIn[6], line 38\u001B[0m\n\u001B[0;32m     34\u001B[0m frame_counter \u001B[38;5;241m=\u001B[39m \u001B[38;5;241m0\u001B[39m\n\u001B[0;32m     36\u001B[0m \u001B[38;5;28;01mwhile\u001B[39;00m \u001B[38;5;28;01mTrue\u001B[39;00m:\n\u001B[0;32m     37\u001B[0m     \u001B[38;5;66;03m# Grab the next frame without decoding and storing it\u001B[39;00m\n\u001B[1;32m---> 38\u001B[0m     \u001B[38;5;28;01mif\u001B[39;00m \u001B[38;5;129;01mnot\u001B[39;00m \u001B[43mcap\u001B[49m\u001B[38;5;241;43m.\u001B[39;49m\u001B[43mgrab\u001B[49m\u001B[43m(\u001B[49m\u001B[43m)\u001B[49m:\n\u001B[0;32m     39\u001B[0m         \u001B[38;5;28;01mbreak\u001B[39;00m\n\u001B[0;32m     41\u001B[0m     frame_counter \u001B[38;5;241m+\u001B[39m\u001B[38;5;241m=\u001B[39m \u001B[38;5;241m1\u001B[39m\n",
      "\u001B[1;31mKeyboardInterrupt\u001B[0m: "
     ]
    }
   ],
   "source": [
    "import numpy as np, cv2, youtube_dl, pprint, time, easyocr, pandas as pd\n",
    "\n",
    "youtube_url = input('Enter the video url: \\n')\n",
    "\n",
    "# https://www.youtube.com/watch?v=30kOuEWrwro\n",
    "\n",
    "ydl_opts = {\n",
    "    'format': 'bestvideo[height=1080]',\n",
    "    'quiet': True\n",
    "}\n",
    "\n",
    "# df = pd.DataFrame(columns = ['round_no','first_blood','round_outcome','win_type','side','retake','postplant','bombsite','kills'])\n",
    "# newroundlist = []\n",
    "\n",
    "with youtube_dl.YoutubeDL(ydl_opts) as ydl:\n",
    "    info_dict = ydl.extract_info(youtube_url, download=False)\n",
    "    # pprint.pprint(info_dict)\n",
    "    video_url = info_dict['url']\n",
    "    print(video_url)\n",
    "\n",
    "def process_frame(frame):\n",
    "\n",
    "\n",
    "    print('Frame no ', frame_counter)\n",
    "\n",
    "\n",
    "cap = cv2.VideoCapture(video_url)\n",
    "\n",
    "if not cap.isOpened():\n",
    "    print(\"Error opening video file\")\n",
    "    exit()\n",
    "\n",
    "frame_skip = 90\n",
    "frame_counter = 0\n",
    "\n",
    "while True:\n",
    "    # Grab the next frame without decoding and storing it\n",
    "    if not cap.grab():\n",
    "        break\n",
    "\n",
    "    frame_counter += 1\n",
    "\n",
    "    # Check if the frame_counter is a multiple of frame_skip\n",
    "    if frame_counter % frame_skip == 0:\n",
    "        # Retrieve and decode the grabbed frame for processing\n",
    "        ret, frame = cap.retrieve()\n",
    "        if not ret:\n",
    "            break\n",
    "\n",
    "        # Process the frame\n",
    "        process_frame(frame)\n",
    "\n",
    "    # Exit the loop if the 'q' key is pressed\n",
    "    if cv2.waitKey(1) & 0xFF == ord('q'):\n",
    "        break\n",
    "\n",
    "cap.release()\n",
    "cv2.destroyAllWindows()"
   ],
   "metadata": {
    "collapsed": false,
    "ExecuteTime": {
     "end_time": "2023-07-25T11:19:26.712499600Z",
     "start_time": "2023-07-25T11:18:54.252090600Z"
    }
   }
  },
  {
   "cell_type": "code",
   "execution_count": null,
   "outputs": [],
   "source": [],
   "metadata": {
    "collapsed": false
   }
  }
 ],
 "metadata": {
  "kernelspec": {
   "display_name": "Python 3",
   "language": "python",
   "name": "python3"
  },
  "language_info": {
   "codemirror_mode": {
    "name": "ipython",
    "version": 2
   },
   "file_extension": ".py",
   "mimetype": "text/x-python",
   "name": "python",
   "nbconvert_exporter": "python",
   "pygments_lexer": "ipython2",
   "version": "2.7.6"
  }
 },
 "nbformat": 4,
 "nbformat_minor": 0
}
