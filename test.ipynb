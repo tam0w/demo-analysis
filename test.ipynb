{
 "cells": [
  {
   "cell_type": "raw",
   "source": [
    "What is this?"
   ],
   "metadata": {
    "collapsed": false
   }
  },
  {
   "cell_type": "code",
   "execution_count": 17,
   "outputs": [],
   "source": [
    "ydl_opts = {\n",
    "    'format': 'bestvideo[ext=mp4]+bestaudio[ext=m4a]/mp4',\n",
    "    'outtmpl': '%(id)s.%(ext)s',\n",
    "    'quiet': True\n",
    "}\n"
   ],
   "metadata": {
    "collapsed": false,
    "ExecuteTime": {
     "end_time": "2023-06-11T14:24:32.359118400Z",
     "start_time": "2023-06-11T14:24:32.357101300Z"
    }
   }
  },
  {
   "cell_type": "code",
   "execution_count": 19,
   "outputs": [],
   "source": [
    "url = 'https://www.youtube.com/watch?v=30kOuEWrwro'"
   ],
   "metadata": {
    "collapsed": false,
    "ExecuteTime": {
     "end_time": "2023-06-11T14:25:01.665093900Z",
     "start_time": "2023-06-11T14:25:01.664097600Z"
    }
   }
  },
  {
   "cell_type": "code",
   "execution_count": 18,
   "outputs": [],
   "source": [
    "import cv2\n",
    "import youtube_dl\n"
   ],
   "metadata": {
    "collapsed": false,
    "ExecuteTime": {
     "end_time": "2023-06-11T14:24:37.054412300Z",
     "start_time": "2023-06-11T14:24:37.051419100Z"
    }
   }
  },
  {
   "cell_type": "code",
   "execution_count": null,
   "outputs": [],
   "source": [],
   "metadata": {
    "collapsed": false
   }
  },
  {
   "cell_type": "code",
   "execution_count": 20,
   "outputs": [
    {
     "name": "stderr",
     "output_type": "stream",
     "text": [
      "ERROR: Unable to extract uploader id; please report this issue on https://yt-dl.org/bug . Make sure you are using the latest version; see  https://yt-dl.org/update  on how to update. Be sure to call youtube-dl with the --verbose flag and include its complete output.\n"
     ]
    },
    {
     "ename": "DownloadError",
     "evalue": "ERROR: Unable to extract uploader id; please report this issue on https://yt-dl.org/bug . Make sure you are using the latest version; see  https://yt-dl.org/update  on how to update. Be sure to call youtube-dl with the --verbose flag and include its complete output.",
     "output_type": "error",
     "traceback": [
      "\u001B[1;31m---------------------------------------------------------------------------\u001B[0m",
      "\u001B[1;31mRegexNotFoundError\u001B[0m                        Traceback (most recent call last)",
      "File \u001B[1;32mD:\\PROJECT\\demo-analysis\\venv\\Lib\\site-packages\\youtube_dl\\YoutubeDL.py:815\u001B[0m, in \u001B[0;36mYoutubeDL.__handle_extraction_exceptions.<locals>.wrapper\u001B[1;34m(self, *args, **kwargs)\u001B[0m\n\u001B[0;32m    814\u001B[0m \u001B[38;5;28;01mtry\u001B[39;00m:\n\u001B[1;32m--> 815\u001B[0m     \u001B[38;5;28;01mreturn\u001B[39;00m \u001B[43mfunc\u001B[49m\u001B[43m(\u001B[49m\u001B[38;5;28;43mself\u001B[39;49m\u001B[43m,\u001B[49m\u001B[43m \u001B[49m\u001B[38;5;241;43m*\u001B[39;49m\u001B[43margs\u001B[49m\u001B[43m,\u001B[49m\u001B[43m \u001B[49m\u001B[38;5;241;43m*\u001B[39;49m\u001B[38;5;241;43m*\u001B[39;49m\u001B[43mkwargs\u001B[49m\u001B[43m)\u001B[49m\n\u001B[0;32m    816\u001B[0m \u001B[38;5;28;01mexcept\u001B[39;00m GeoRestrictedError \u001B[38;5;28;01mas\u001B[39;00m e:\n",
      "File \u001B[1;32mD:\\PROJECT\\demo-analysis\\venv\\Lib\\site-packages\\youtube_dl\\YoutubeDL.py:836\u001B[0m, in \u001B[0;36mYoutubeDL.__extract_info\u001B[1;34m(self, url, ie, download, extra_info, process)\u001B[0m\n\u001B[0;32m    834\u001B[0m \u001B[38;5;129m@__handle_extraction_exceptions\u001B[39m\n\u001B[0;32m    835\u001B[0m \u001B[38;5;28;01mdef\u001B[39;00m \u001B[38;5;21m__extract_info\u001B[39m(\u001B[38;5;28mself\u001B[39m, url, ie, download, extra_info, process):\n\u001B[1;32m--> 836\u001B[0m     ie_result \u001B[38;5;241m=\u001B[39m \u001B[43mie\u001B[49m\u001B[38;5;241;43m.\u001B[39;49m\u001B[43mextract\u001B[49m\u001B[43m(\u001B[49m\u001B[43murl\u001B[49m\u001B[43m)\u001B[49m\n\u001B[0;32m    837\u001B[0m     \u001B[38;5;28;01mif\u001B[39;00m ie_result \u001B[38;5;129;01mis\u001B[39;00m \u001B[38;5;28;01mNone\u001B[39;00m:  \u001B[38;5;66;03m# Finished already (backwards compatibility; listformats and friends should be moved here)\u001B[39;00m\n",
      "File \u001B[1;32mD:\\PROJECT\\demo-analysis\\venv\\Lib\\site-packages\\youtube_dl\\extractor\\common.py:534\u001B[0m, in \u001B[0;36mInfoExtractor.extract\u001B[1;34m(self, url)\u001B[0m\n\u001B[0;32m    533\u001B[0m \u001B[38;5;28mself\u001B[39m\u001B[38;5;241m.\u001B[39minitialize()\n\u001B[1;32m--> 534\u001B[0m ie_result \u001B[38;5;241m=\u001B[39m \u001B[38;5;28;43mself\u001B[39;49m\u001B[38;5;241;43m.\u001B[39;49m\u001B[43m_real_extract\u001B[49m\u001B[43m(\u001B[49m\u001B[43murl\u001B[49m\u001B[43m)\u001B[49m\n\u001B[0;32m    535\u001B[0m \u001B[38;5;28;01mif\u001B[39;00m \u001B[38;5;28mself\u001B[39m\u001B[38;5;241m.\u001B[39m_x_forwarded_for_ip:\n",
      "File \u001B[1;32mD:\\PROJECT\\demo-analysis\\venv\\Lib\\site-packages\\youtube_dl\\extractor\\youtube.py:1794\u001B[0m, in \u001B[0;36mYoutubeIE._real_extract\u001B[1;34m(self, url)\u001B[0m\n\u001B[0;32m   1782\u001B[0m owner_profile_url \u001B[38;5;241m=\u001B[39m microformat\u001B[38;5;241m.\u001B[39mget(\u001B[38;5;124m'\u001B[39m\u001B[38;5;124mownerProfileUrl\u001B[39m\u001B[38;5;124m'\u001B[39m)\n\u001B[0;32m   1784\u001B[0m info \u001B[38;5;241m=\u001B[39m {\n\u001B[0;32m   1785\u001B[0m     \u001B[38;5;124m'\u001B[39m\u001B[38;5;124mid\u001B[39m\u001B[38;5;124m'\u001B[39m: video_id,\n\u001B[0;32m   1786\u001B[0m     \u001B[38;5;124m'\u001B[39m\u001B[38;5;124mtitle\u001B[39m\u001B[38;5;124m'\u001B[39m: \u001B[38;5;28mself\u001B[39m\u001B[38;5;241m.\u001B[39m_live_title(video_title) \u001B[38;5;28;01mif\u001B[39;00m is_live \u001B[38;5;28;01melse\u001B[39;00m video_title,\n\u001B[0;32m   1787\u001B[0m     \u001B[38;5;124m'\u001B[39m\u001B[38;5;124mformats\u001B[39m\u001B[38;5;124m'\u001B[39m: formats,\n\u001B[0;32m   1788\u001B[0m     \u001B[38;5;124m'\u001B[39m\u001B[38;5;124mthumbnails\u001B[39m\u001B[38;5;124m'\u001B[39m: thumbnails,\n\u001B[0;32m   1789\u001B[0m     \u001B[38;5;124m'\u001B[39m\u001B[38;5;124mdescription\u001B[39m\u001B[38;5;124m'\u001B[39m: video_description,\n\u001B[0;32m   1790\u001B[0m     \u001B[38;5;124m'\u001B[39m\u001B[38;5;124mupload_date\u001B[39m\u001B[38;5;124m'\u001B[39m: unified_strdate(\n\u001B[0;32m   1791\u001B[0m         microformat\u001B[38;5;241m.\u001B[39mget(\u001B[38;5;124m'\u001B[39m\u001B[38;5;124muploadDate\u001B[39m\u001B[38;5;124m'\u001B[39m)\n\u001B[0;32m   1792\u001B[0m         \u001B[38;5;129;01mor\u001B[39;00m search_meta(\u001B[38;5;124m'\u001B[39m\u001B[38;5;124muploadDate\u001B[39m\u001B[38;5;124m'\u001B[39m)),\n\u001B[0;32m   1793\u001B[0m     \u001B[38;5;124m'\u001B[39m\u001B[38;5;124muploader\u001B[39m\u001B[38;5;124m'\u001B[39m: video_details[\u001B[38;5;124m'\u001B[39m\u001B[38;5;124mauthor\u001B[39m\u001B[38;5;124m'\u001B[39m],\n\u001B[1;32m-> 1794\u001B[0m     \u001B[38;5;124m'\u001B[39m\u001B[38;5;124muploader_id\u001B[39m\u001B[38;5;124m'\u001B[39m: \u001B[38;5;28;43mself\u001B[39;49m\u001B[38;5;241;43m.\u001B[39;49m\u001B[43m_search_regex\u001B[49m\u001B[43m(\u001B[49m\u001B[38;5;124;43mr\u001B[39;49m\u001B[38;5;124;43m'\u001B[39;49m\u001B[38;5;124;43m/(?:channel|user)/([^/?&#]+)\u001B[39;49m\u001B[38;5;124;43m'\u001B[39;49m\u001B[43m,\u001B[49m\u001B[43m \u001B[49m\u001B[43mowner_profile_url\u001B[49m\u001B[43m,\u001B[49m\u001B[43m \u001B[49m\u001B[38;5;124;43m'\u001B[39;49m\u001B[38;5;124;43muploader id\u001B[39;49m\u001B[38;5;124;43m'\u001B[39;49m\u001B[43m)\u001B[49m \u001B[38;5;28;01mif\u001B[39;00m owner_profile_url \u001B[38;5;28;01melse\u001B[39;00m \u001B[38;5;28;01mNone\u001B[39;00m,\n\u001B[0;32m   1795\u001B[0m     \u001B[38;5;124m'\u001B[39m\u001B[38;5;124muploader_url\u001B[39m\u001B[38;5;124m'\u001B[39m: owner_profile_url,\n\u001B[0;32m   1796\u001B[0m     \u001B[38;5;124m'\u001B[39m\u001B[38;5;124mchannel_id\u001B[39m\u001B[38;5;124m'\u001B[39m: channel_id,\n\u001B[0;32m   1797\u001B[0m     \u001B[38;5;124m'\u001B[39m\u001B[38;5;124mchannel_url\u001B[39m\u001B[38;5;124m'\u001B[39m: \u001B[38;5;124m'\u001B[39m\u001B[38;5;124mhttps://www.youtube.com/channel/\u001B[39m\u001B[38;5;124m'\u001B[39m \u001B[38;5;241m+\u001B[39m channel_id \u001B[38;5;28;01mif\u001B[39;00m channel_id \u001B[38;5;28;01melse\u001B[39;00m \u001B[38;5;28;01mNone\u001B[39;00m,\n\u001B[0;32m   1798\u001B[0m     \u001B[38;5;124m'\u001B[39m\u001B[38;5;124mduration\u001B[39m\u001B[38;5;124m'\u001B[39m: duration,\n\u001B[0;32m   1799\u001B[0m     \u001B[38;5;124m'\u001B[39m\u001B[38;5;124mview_count\u001B[39m\u001B[38;5;124m'\u001B[39m: int_or_none(\n\u001B[0;32m   1800\u001B[0m         video_details\u001B[38;5;241m.\u001B[39mget(\u001B[38;5;124m'\u001B[39m\u001B[38;5;124mviewCount\u001B[39m\u001B[38;5;124m'\u001B[39m)\n\u001B[0;32m   1801\u001B[0m         \u001B[38;5;129;01mor\u001B[39;00m microformat\u001B[38;5;241m.\u001B[39mget(\u001B[38;5;124m'\u001B[39m\u001B[38;5;124mviewCount\u001B[39m\u001B[38;5;124m'\u001B[39m)\n\u001B[0;32m   1802\u001B[0m         \u001B[38;5;129;01mor\u001B[39;00m search_meta(\u001B[38;5;124m'\u001B[39m\u001B[38;5;124minteractionCount\u001B[39m\u001B[38;5;124m'\u001B[39m)),\n\u001B[0;32m   1803\u001B[0m     \u001B[38;5;124m'\u001B[39m\u001B[38;5;124maverage_rating\u001B[39m\u001B[38;5;124m'\u001B[39m: float_or_none(video_details\u001B[38;5;241m.\u001B[39mget(\u001B[38;5;124m'\u001B[39m\u001B[38;5;124maverageRating\u001B[39m\u001B[38;5;124m'\u001B[39m)),\n\u001B[0;32m   1804\u001B[0m     \u001B[38;5;124m'\u001B[39m\u001B[38;5;124mage_limit\u001B[39m\u001B[38;5;124m'\u001B[39m: \u001B[38;5;241m18\u001B[39m \u001B[38;5;28;01mif\u001B[39;00m (\n\u001B[0;32m   1805\u001B[0m         microformat\u001B[38;5;241m.\u001B[39mget(\u001B[38;5;124m'\u001B[39m\u001B[38;5;124misFamilySafe\u001B[39m\u001B[38;5;124m'\u001B[39m) \u001B[38;5;129;01mis\u001B[39;00m \u001B[38;5;28;01mFalse\u001B[39;00m\n\u001B[0;32m   1806\u001B[0m         \u001B[38;5;129;01mor\u001B[39;00m search_meta(\u001B[38;5;124m'\u001B[39m\u001B[38;5;124misFamilyFriendly\u001B[39m\u001B[38;5;124m'\u001B[39m) \u001B[38;5;241m==\u001B[39m \u001B[38;5;124m'\u001B[39m\u001B[38;5;124mfalse\u001B[39m\u001B[38;5;124m'\u001B[39m\n\u001B[0;32m   1807\u001B[0m         \u001B[38;5;129;01mor\u001B[39;00m search_meta(\u001B[38;5;124m'\u001B[39m\u001B[38;5;124mog:restrictions:age\u001B[39m\u001B[38;5;124m'\u001B[39m) \u001B[38;5;241m==\u001B[39m \u001B[38;5;124m'\u001B[39m\u001B[38;5;124m18+\u001B[39m\u001B[38;5;124m'\u001B[39m) \u001B[38;5;28;01melse\u001B[39;00m \u001B[38;5;241m0\u001B[39m,\n\u001B[0;32m   1808\u001B[0m     \u001B[38;5;124m'\u001B[39m\u001B[38;5;124mwebpage_url\u001B[39m\u001B[38;5;124m'\u001B[39m: webpage_url,\n\u001B[0;32m   1809\u001B[0m     \u001B[38;5;124m'\u001B[39m\u001B[38;5;124mcategories\u001B[39m\u001B[38;5;124m'\u001B[39m: [category] \u001B[38;5;28;01mif\u001B[39;00m category \u001B[38;5;28;01melse\u001B[39;00m \u001B[38;5;28;01mNone\u001B[39;00m,\n\u001B[0;32m   1810\u001B[0m     \u001B[38;5;124m'\u001B[39m\u001B[38;5;124mtags\u001B[39m\u001B[38;5;124m'\u001B[39m: keywords,\n\u001B[0;32m   1811\u001B[0m     \u001B[38;5;124m'\u001B[39m\u001B[38;5;124mis_live\u001B[39m\u001B[38;5;124m'\u001B[39m: is_live,\n\u001B[0;32m   1812\u001B[0m }\n\u001B[0;32m   1814\u001B[0m pctr \u001B[38;5;241m=\u001B[39m try_get(\n\u001B[0;32m   1815\u001B[0m     player_response,\n\u001B[0;32m   1816\u001B[0m     \u001B[38;5;28;01mlambda\u001B[39;00m x: x[\u001B[38;5;124m'\u001B[39m\u001B[38;5;124mcaptions\u001B[39m\u001B[38;5;124m'\u001B[39m][\u001B[38;5;124m'\u001B[39m\u001B[38;5;124mplayerCaptionsTracklistRenderer\u001B[39m\u001B[38;5;124m'\u001B[39m], \u001B[38;5;28mdict\u001B[39m)\n",
      "File \u001B[1;32mD:\\PROJECT\\demo-analysis\\venv\\Lib\\site-packages\\youtube_dl\\extractor\\common.py:1012\u001B[0m, in \u001B[0;36mInfoExtractor._search_regex\u001B[1;34m(self, pattern, string, name, default, fatal, flags, group)\u001B[0m\n\u001B[0;32m   1011\u001B[0m \u001B[38;5;28;01melif\u001B[39;00m fatal:\n\u001B[1;32m-> 1012\u001B[0m     \u001B[38;5;28;01mraise\u001B[39;00m RegexNotFoundError(\u001B[38;5;124m'\u001B[39m\u001B[38;5;124mUnable to extract \u001B[39m\u001B[38;5;132;01m%s\u001B[39;00m\u001B[38;5;124m'\u001B[39m \u001B[38;5;241m%\u001B[39m _name)\n\u001B[0;32m   1013\u001B[0m \u001B[38;5;28;01melse\u001B[39;00m:\n",
      "\u001B[1;31mRegexNotFoundError\u001B[0m: Unable to extract uploader id; please report this issue on https://yt-dl.org/bug . Make sure you are using the latest version; see  https://yt-dl.org/update  on how to update. Be sure to call youtube-dl with the --verbose flag and include its complete output.",
      "\nDuring handling of the above exception, another exception occurred:\n",
      "\u001B[1;31mDownloadError\u001B[0m                             Traceback (most recent call last)",
      "Cell \u001B[1;32mIn[20], line 2\u001B[0m\n\u001B[0;32m      1\u001B[0m \u001B[38;5;28;01mwith\u001B[39;00m youtube_dl\u001B[38;5;241m.\u001B[39mYoutubeDL(ydl_opts) \u001B[38;5;28;01mas\u001B[39;00m ydl:\n\u001B[1;32m----> 2\u001B[0m     info_dict \u001B[38;5;241m=\u001B[39m \u001B[43mydl\u001B[49m\u001B[38;5;241;43m.\u001B[39;49m\u001B[43mextract_info\u001B[49m\u001B[43m(\u001B[49m\u001B[43murl\u001B[49m\u001B[43m,\u001B[49m\u001B[43m \u001B[49m\u001B[43mdownload\u001B[49m\u001B[38;5;241;43m=\u001B[39;49m\u001B[38;5;28;43;01mFalse\u001B[39;49;00m\u001B[43m)\u001B[49m\n\u001B[0;32m      3\u001B[0m     video_url \u001B[38;5;241m=\u001B[39m info_dict[\u001B[38;5;124m'\u001B[39m\u001B[38;5;124murl\u001B[39m\u001B[38;5;124m'\u001B[39m]\n",
      "File \u001B[1;32mD:\\PROJECT\\demo-analysis\\venv\\Lib\\site-packages\\youtube_dl\\YoutubeDL.py:808\u001B[0m, in \u001B[0;36mYoutubeDL.extract_info\u001B[1;34m(self, url, download, ie_key, extra_info, process, force_generic_extractor)\u001B[0m\n\u001B[0;32m    804\u001B[0m     \u001B[38;5;28;01mif\u001B[39;00m \u001B[38;5;129;01mnot\u001B[39;00m ie\u001B[38;5;241m.\u001B[39mworking():\n\u001B[0;32m    805\u001B[0m         \u001B[38;5;28mself\u001B[39m\u001B[38;5;241m.\u001B[39mreport_warning(\u001B[38;5;124m'\u001B[39m\u001B[38;5;124mThe program functionality for this site has been marked as broken, \u001B[39m\u001B[38;5;124m'\u001B[39m\n\u001B[0;32m    806\u001B[0m                             \u001B[38;5;124m'\u001B[39m\u001B[38;5;124mand will probably not work.\u001B[39m\u001B[38;5;124m'\u001B[39m)\n\u001B[1;32m--> 808\u001B[0m     \u001B[38;5;28;01mreturn\u001B[39;00m \u001B[38;5;28;43mself\u001B[39;49m\u001B[38;5;241;43m.\u001B[39;49m\u001B[43m__extract_info\u001B[49m\u001B[43m(\u001B[49m\u001B[43murl\u001B[49m\u001B[43m,\u001B[49m\u001B[43m \u001B[49m\u001B[43mie\u001B[49m\u001B[43m,\u001B[49m\u001B[43m \u001B[49m\u001B[43mdownload\u001B[49m\u001B[43m,\u001B[49m\u001B[43m \u001B[49m\u001B[43mextra_info\u001B[49m\u001B[43m,\u001B[49m\u001B[43m \u001B[49m\u001B[43mprocess\u001B[49m\u001B[43m)\u001B[49m\n\u001B[0;32m    809\u001B[0m \u001B[38;5;28;01melse\u001B[39;00m:\n\u001B[0;32m    810\u001B[0m     \u001B[38;5;28mself\u001B[39m\u001B[38;5;241m.\u001B[39mreport_error(\u001B[38;5;124m'\u001B[39m\u001B[38;5;124mno suitable InfoExtractor for URL \u001B[39m\u001B[38;5;132;01m%s\u001B[39;00m\u001B[38;5;124m'\u001B[39m \u001B[38;5;241m%\u001B[39m url)\n",
      "File \u001B[1;32mD:\\PROJECT\\demo-analysis\\venv\\Lib\\site-packages\\youtube_dl\\YoutubeDL.py:824\u001B[0m, in \u001B[0;36mYoutubeDL.__handle_extraction_exceptions.<locals>.wrapper\u001B[1;34m(self, *args, **kwargs)\u001B[0m\n\u001B[0;32m    822\u001B[0m     \u001B[38;5;28mself\u001B[39m\u001B[38;5;241m.\u001B[39mreport_error(msg)\n\u001B[0;32m    823\u001B[0m \u001B[38;5;28;01mexcept\u001B[39;00m ExtractorError \u001B[38;5;28;01mas\u001B[39;00m e:  \u001B[38;5;66;03m# An error we somewhat expected\u001B[39;00m\n\u001B[1;32m--> 824\u001B[0m     \u001B[38;5;28;43mself\u001B[39;49m\u001B[38;5;241;43m.\u001B[39;49m\u001B[43mreport_error\u001B[49m\u001B[43m(\u001B[49m\u001B[43mcompat_str\u001B[49m\u001B[43m(\u001B[49m\u001B[43me\u001B[49m\u001B[43m)\u001B[49m\u001B[43m,\u001B[49m\u001B[43m \u001B[49m\u001B[43me\u001B[49m\u001B[38;5;241;43m.\u001B[39;49m\u001B[43mformat_traceback\u001B[49m\u001B[43m(\u001B[49m\u001B[43m)\u001B[49m\u001B[43m)\u001B[49m\n\u001B[0;32m    825\u001B[0m \u001B[38;5;28;01mexcept\u001B[39;00m MaxDownloadsReached:\n\u001B[0;32m    826\u001B[0m     \u001B[38;5;28;01mraise\u001B[39;00m\n",
      "File \u001B[1;32mD:\\PROJECT\\demo-analysis\\venv\\Lib\\site-packages\\youtube_dl\\YoutubeDL.py:628\u001B[0m, in \u001B[0;36mYoutubeDL.report_error\u001B[1;34m(self, message, tb)\u001B[0m\n\u001B[0;32m    626\u001B[0m     _msg_header \u001B[38;5;241m=\u001B[39m \u001B[38;5;124m'\u001B[39m\u001B[38;5;124mERROR:\u001B[39m\u001B[38;5;124m'\u001B[39m\n\u001B[0;32m    627\u001B[0m error_message \u001B[38;5;241m=\u001B[39m \u001B[38;5;124m'\u001B[39m\u001B[38;5;132;01m%s\u001B[39;00m\u001B[38;5;124m \u001B[39m\u001B[38;5;132;01m%s\u001B[39;00m\u001B[38;5;124m'\u001B[39m \u001B[38;5;241m%\u001B[39m (_msg_header, message)\n\u001B[1;32m--> 628\u001B[0m \u001B[38;5;28;43mself\u001B[39;49m\u001B[38;5;241;43m.\u001B[39;49m\u001B[43mtrouble\u001B[49m\u001B[43m(\u001B[49m\u001B[43merror_message\u001B[49m\u001B[43m,\u001B[49m\u001B[43m \u001B[49m\u001B[43mtb\u001B[49m\u001B[43m)\u001B[49m\n",
      "File \u001B[1;32mD:\\PROJECT\\demo-analysis\\venv\\Lib\\site-packages\\youtube_dl\\YoutubeDL.py:598\u001B[0m, in \u001B[0;36mYoutubeDL.trouble\u001B[1;34m(self, message, tb)\u001B[0m\n\u001B[0;32m    596\u001B[0m     \u001B[38;5;28;01melse\u001B[39;00m:\n\u001B[0;32m    597\u001B[0m         exc_info \u001B[38;5;241m=\u001B[39m sys\u001B[38;5;241m.\u001B[39mexc_info()\n\u001B[1;32m--> 598\u001B[0m     \u001B[38;5;28;01mraise\u001B[39;00m DownloadError(message, exc_info)\n\u001B[0;32m    599\u001B[0m \u001B[38;5;28mself\u001B[39m\u001B[38;5;241m.\u001B[39m_download_retcode \u001B[38;5;241m=\u001B[39m \u001B[38;5;241m1\u001B[39m\n",
      "\u001B[1;31mDownloadError\u001B[0m: ERROR: Unable to extract uploader id; please report this issue on https://yt-dl.org/bug . Make sure you are using the latest version; see  https://yt-dl.org/update  on how to update. Be sure to call youtube-dl with the --verbose flag and include its complete output."
     ]
    }
   ],
   "source": [
    "with youtube_dl.YoutubeDL(ydl_opts) as ydl:\n",
    "    info_dict = ydl.extract_info(url, download=False)\n",
    "    video_url = info_dict['url']"
   ],
   "metadata": {
    "collapsed": false,
    "ExecuteTime": {
     "end_time": "2023-06-11T14:25:29.487917100Z",
     "start_time": "2023-06-11T14:25:28.728146800Z"
    }
   }
  }
 ],
 "metadata": {
  "kernelspec": {
   "display_name": "Python 3",
   "language": "python",
   "name": "python3"
  },
  "language_info": {
   "codemirror_mode": {
    "name": "ipython",
    "version": 2
   },
   "file_extension": ".py",
   "mimetype": "text/x-python",
   "name": "python",
   "nbconvert_exporter": "python",
   "pygments_lexer": "ipython2",
   "version": "2.7.6"
  }
 },
 "nbformat": 4,
 "nbformat_minor": 0
}
