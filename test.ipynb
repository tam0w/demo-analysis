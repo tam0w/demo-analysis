{
 "cells": [
  {
   "cell_type": "markdown",
   "source": [
    "Jupyter Notebook file for testing code snippets conveniently and for performing image pre processing and manipulation (cropping etc)"
   ],
   "metadata": {
    "collapsed": false
   }
  },
  {
   "cell_type": "code",
   "execution_count": 19,
   "outputs": [],
   "source": [
    "import numpy as np, cv2 as cv, youtube_dl, pprint, time, easyocr, pandas as pd\n"
   ],
   "metadata": {
    "collapsed": false,
    "ExecuteTime": {
     "end_time": "2023-07-23T03:54:36.836048200Z",
     "start_time": "2023-07-23T03:54:36.830553800Z"
    }
   }
  },
  {
   "cell_type": "code",
   "execution_count": 16,
   "outputs": [],
   "source": [
    "frame = cv.imread('images/screenshot.png')\n",
    "buy = cv.imread('images/buy.png')\n",
    "buytrans = cv.imread('images/buytrans.png')\n",
    "spike = cv.imread('screenshots/spike_trans1.png')\n",
    "win = cv.imread('screenshots/win_gray.png')\n"
   ],
   "metadata": {
    "collapsed": false,
    "ExecuteTime": {
     "end_time": "2023-07-23T03:54:27.435380500Z",
     "start_time": "2023-07-23T03:54:27.395790200Z"
    }
   }
  },
  {
   "cell_type": "code",
   "execution_count": 17,
   "outputs": [
    {
     "name": "stdout",
     "output_type": "stream",
     "text": [
      "0.7979826927185059\n"
     ]
    }
   ],
   "source": [
    "temp = cv.matchTemplate(frame, buy, cv.TM_CCOEFF_NORMED)\n",
    "min_val, max_val, min_loc, max_loc = cv.minMaxLoc(temp)\n",
    "print(max_val)"
   ],
   "metadata": {
    "collapsed": false,
    "ExecuteTime": {
     "end_time": "2023-07-23T03:54:28.095163100Z",
     "start_time": "2023-07-23T03:54:27.989770100Z"
    }
   }
  },
  {
   "cell_type": "code",
   "execution_count": 18,
   "outputs": [],
   "source": [
    "cropped_image = buytrans[70:190,90:380]\n",
    "\n",
    "cv.imshow(\"cropped\", cropped_image)\n",
    "cv.waitKey(0)\n",
    "cv.destroyAllWindows()"
   ],
   "metadata": {
    "collapsed": false,
    "ExecuteTime": {
     "end_time": "2023-07-23T03:54:30.223042700Z",
     "start_time": "2023-07-23T03:54:28.890030400Z"
    }
   }
  },
  {
   "cell_type": "code",
   "execution_count": null,
   "outputs": [
    {
     "name": "stdout",
     "output_type": "stream",
     "text": [
      "0.7979826927185059\n"
     ]
    }
   ],
   "source": [
    "temp = cv.matchTemplate(frame, buy, cv.TM_CCOEFF_NORMED)\n",
    "min_val, max_val, min_loc, max_loc = cv.minMaxLoc(temp)\n",
    "print(max_val)"
   ],
   "metadata": {
    "collapsed": false,
    "ExecuteTime": {
     "end_time": "2023-07-23T03:53:55.182112100Z",
     "start_time": "2023-07-23T03:53:55.074260700Z"
    }
   }
  },
  {
   "cell_type": "code",
   "execution_count": null,
   "outputs": [
    {
     "data": {
      "text/plain": "True"
     },
     "execution_count": 6,
     "metadata": {},
     "output_type": "execute_result"
    }
   ],
   "source": [
    "cv.imwrite('croppedbuytrans.png',cropped_image)"
   ],
   "metadata": {
    "collapsed": false,
    "ExecuteTime": {
     "end_time": "2023-07-23T03:53:55.192963100Z",
     "start_time": "2023-07-23T03:53:55.183109Z"
    }
   }
  },
  {
   "cell_type": "code",
   "execution_count": 14,
   "outputs": [
    {
     "data": {
      "text/plain": "(1079, 1439, 3)"
     },
     "execution_count": 14,
     "metadata": {},
     "output_type": "execute_result"
    }
   ],
   "source": [
    "frame.shape"
   ],
   "metadata": {
    "collapsed": false,
    "ExecuteTime": {
     "end_time": "2023-07-23T03:54:18.971305400Z",
     "start_time": "2023-07-23T03:54:18.964831100Z"
    }
   }
  }
 ],
 "metadata": {
  "kernelspec": {
   "display_name": "Python 3",
   "language": "python",
   "name": "python3"
  },
  "language_info": {
   "codemirror_mode": {
    "name": "ipython",
    "version": 2
   },
   "file_extension": ".py",
   "mimetype": "text/x-python",
   "name": "python",
   "nbconvert_exporter": "python",
   "pygments_lexer": "ipython2",
   "version": "2.7.6"
  }
 },
 "nbformat": 4,
 "nbformat_minor": 0
}
