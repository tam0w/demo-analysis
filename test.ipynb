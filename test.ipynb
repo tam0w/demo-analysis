{
 "cells": [
  {
   "cell_type": "raw",
   "source": [
    "What is this?"
   ],
   "metadata": {
    "collapsed": false
   }
  },
  {
   "cell_type": "code",
   "execution_count": 1,
   "outputs": [],
   "source": [
    "import numpy as np, cv2 as cv, youtube_dl, pprint, time, easyocr, pandas as pd\n"
   ],
   "metadata": {
    "collapsed": false,
    "ExecuteTime": {
     "end_time": "2023-07-22T05:52:40.136693500Z",
     "start_time": "2023-07-22T05:52:37.383080200Z"
    }
   }
  },
  {
   "cell_type": "code",
   "execution_count": 24,
   "outputs": [],
   "source": [
    "frame = cv.imread('images/screenshot.png')\n",
    "buy = cv.imread('images/buy.png')\n",
    "buytrans = cv.imread('images/buytrans.png')\n",
    "ss = cv.imread('screenshots/frame945.png')\n",
    "spike = cv.imread('screenshots/spike_trans1.png')\n",
    "win = cv.imread('screenshots/win_gray.png')\n"
   ],
   "metadata": {
    "collapsed": false,
    "ExecuteTime": {
     "end_time": "2023-07-22T08:07:56.863684400Z",
     "start_time": "2023-07-22T08:07:56.798149900Z"
    }
   }
  },
  {
   "cell_type": "code",
   "execution_count": 3,
   "outputs": [
    {
     "name": "stdout",
     "output_type": "stream",
     "text": [
      "0.7979826927185059\n"
     ]
    }
   ],
   "source": [
    "temp = cv.matchTemplate(frame, buy, cv.TM_CCOEFF_NORMED)\n",
    "min_val, max_val, min_loc, max_loc = cv.minMaxLoc(temp)\n",
    "print(max_val)"
   ],
   "metadata": {
    "collapsed": false,
    "ExecuteTime": {
     "end_time": "2023-07-22T05:52:40.292382300Z",
     "start_time": "2023-07-22T05:52:40.182583800Z"
    }
   }
  },
  {
   "cell_type": "code",
   "execution_count": 19,
   "outputs": [],
   "source": [
    "cropped_image = buytrans[70:190,90:380]\n",
    "\n",
    "cv.imshow(\"cropped\", cropped_image)\n",
    "cv.waitKey(0)\n",
    "cv.destroyAllWindows()"
   ],
   "metadata": {
    "collapsed": false,
    "ExecuteTime": {
     "end_time": "2023-07-22T05:56:48.010899600Z",
     "start_time": "2023-07-22T05:56:46.249055500Z"
    }
   }
  },
  {
   "cell_type": "code",
   "execution_count": 28,
   "outputs": [
    {
     "name": "stdout",
     "output_type": "stream",
     "text": [
      "0.7979826927185059\n"
     ]
    }
   ],
   "source": [
    "temp = cv.matchTemplate(frame, buy, cv.TM_CCOEFF_NORMED)\n",
    "min_val, max_val, min_loc, max_loc = cv.minMaxLoc(temp)\n",
    "print(max_val)"
   ],
   "metadata": {
    "collapsed": false,
    "ExecuteTime": {
     "end_time": "2023-07-22T08:08:35.106973Z",
     "start_time": "2023-07-22T08:08:35.005214600Z"
    }
   }
  },
  {
   "cell_type": "code",
   "execution_count": 23,
   "outputs": [
    {
     "data": {
      "text/plain": "True"
     },
     "execution_count": 23,
     "metadata": {},
     "output_type": "execute_result"
    }
   ],
   "source": [
    "cv.imwrite('croppedbuytrans.png',cropped_image)"
   ],
   "metadata": {
    "collapsed": false,
    "ExecuteTime": {
     "end_time": "2023-07-22T05:58:13.906886600Z",
     "start_time": "2023-07-22T05:58:13.827637100Z"
    }
   }
  },
  {
   "cell_type": "code",
   "execution_count": 29,
   "outputs": [
    {
     "name": "stdout",
     "output_type": "stream",
     "text": [
      "0.37488874793052673\n"
     ]
    }
   ],
   "source": [
    "temp = cv.matchTemplate(ss, buy, cv.TM_CCOEFF_NORMED)\n",
    "min_val, max_val, min_loc, max_loc = cv.minMaxLoc(temp)\n",
    "print(max_val)"
   ],
   "metadata": {
    "collapsed": false,
    "ExecuteTime": {
     "end_time": "2023-07-22T08:08:42.749111900Z",
     "start_time": "2023-07-22T08:08:42.693710800Z"
    }
   }
  },
  {
   "cell_type": "code",
   "execution_count": 31,
   "outputs": [
    {
     "data": {
      "text/plain": "(720, 960, 3)"
     },
     "execution_count": 31,
     "metadata": {},
     "output_type": "execute_result"
    }
   ],
   "source": [
    "ss.shape"
   ],
   "metadata": {
    "collapsed": false,
    "ExecuteTime": {
     "end_time": "2023-07-22T08:09:15.310298900Z",
     "start_time": "2023-07-22T08:09:15.310298900Z"
    }
   }
  },
  {
   "cell_type": "code",
   "execution_count": 32,
   "outputs": [
    {
     "data": {
      "text/plain": "(1079, 1439, 3)"
     },
     "execution_count": 32,
     "metadata": {},
     "output_type": "execute_result"
    }
   ],
   "source": [
    "frame.shape"
   ],
   "metadata": {
    "collapsed": false,
    "ExecuteTime": {
     "end_time": "2023-07-22T08:09:29.156555500Z",
     "start_time": "2023-07-22T08:09:29.133617400Z"
    }
   }
  },
  {
   "cell_type": "code",
   "execution_count": null,
   "outputs": [],
   "source": [],
   "metadata": {
    "collapsed": false
   }
  }
 ],
 "metadata": {
  "kernelspec": {
   "display_name": "Python 3",
   "language": "python",
   "name": "python3"
  },
  "language_info": {
   "codemirror_mode": {
    "name": "ipython",
    "version": 2
   },
   "file_extension": ".py",
   "mimetype": "text/x-python",
   "name": "python",
   "nbconvert_exporter": "python",
   "pygments_lexer": "ipython2",
   "version": "2.7.6"
  }
 },
 "nbformat": 4,
 "nbformat_minor": 0
}
